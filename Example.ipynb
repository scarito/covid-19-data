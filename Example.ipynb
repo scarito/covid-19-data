{
 "cells": [
  {
   "cell_type": "code",
   "execution_count": null,
   "metadata": {},
   "outputs": [],
   "source": [
    "import numpy as np\n",
    "import pandas as pd\n",
    "import matplotlib.pyplot as plt\n",
    "plt.rcParams.update({'figure.max_open_warning': 100})"
   ]
  },
  {
   "cell_type": "code",
   "execution_count": null,
   "metadata": {},
   "outputs": [],
   "source": [
    "# Load all data.  The generate_local=False argument skips city/county level data, which takes a while to create.\n",
    "import covid_19_data\n",
    "\n",
    "all_dfs = covid_19_data.LoadAllJhuData()\n",
    "timeseries = covid_19_data.CreateTimeseries(all_dfs, generate_local=False)"
   ]
  },
  {
   "cell_type": "code",
   "execution_count": null,
   "metadata": {},
   "outputs": [],
   "source": [
    "timeseries[timeseries.Location=='US'].plot(x='Date', y=['Confirmed', 'Deaths'],logy=True, ylim=(1,1e6))"
   ]
  },
  {
   "cell_type": "code",
   "execution_count": null,
   "metadata": {},
   "outputs": [],
   "source": [
    "timeseries[timeseries.Location=='New York, US'].plot(x='Date', y=['Confirmed', 'Deaths'], logy=True, ylim=(1,1e6))"
   ]
  },
  {
   "cell_type": "code",
   "execution_count": null,
   "metadata": {},
   "outputs": [],
   "source": [
    "timeseries[timeseries.Location=='Italy'].plot(x='Date', y=['Confirmed', 'Deaths'],logy=True, ylim=(1,1e6))"
   ]
  },
  {
   "cell_type": "code",
   "execution_count": null,
   "metadata": {},
   "outputs": [],
   "source": [
    "timeseries[timeseries.Location=='China'].plot(x='Date', y=['Confirmed', 'Deaths'],logy=True, ylim=(1,1e6))"
   ]
  },
  {
   "cell_type": "code",
   "execution_count": null,
   "metadata": {
    "scrolled": true
   },
   "outputs": [],
   "source": [
    "# Plot confirmed/deaths/recovered by US state.\n",
    "for loc in sorted(set(timeseries.Location)):\n",
    "    if loc.endswith(\", US\") and len(loc.split(',')) == 2:\n",
    "        timeseries[timeseries.Location==loc].plot(x='Date', y=['Confirmed', 'Deaths', 'Recovered'],logy=True, ylim=(1,1e6), title=loc)"
   ]
  },
  {
   "cell_type": "code",
   "execution_count": null,
   "metadata": {
    "scrolled": false
   },
   "outputs": [],
   "source": [
    "# Plot 5 day growth rate by US state.\n",
    "for loc in sorted(set(timeseries.Location)):\n",
    "    if loc.endswith(\", US\") and len(loc.split(',')) == 2:\n",
    "        dates = timeseries[timeseries.Location==loc].Date\n",
    "        confirmed = timeseries[timeseries.Location==loc].Confirmed\n",
    "        growth = confirmed.diff(5) / (confirmed - confirmed.diff(5))\n",
    "        f=plt.figure()\n",
    "        plt.plot(dates, growth)\n",
    "        plt.yscale('log')\n",
    "        plt.ylim([.1, 10])\n",
    "        plt.xlim([np.datetime64('2020-01-21'), np.datetime64('2020-04-01')])\n",
    "        plt.title(loc)"
   ]
  },
  {
   "cell_type": "code",
   "execution_count": null,
   "metadata": {},
   "outputs": [],
   "source": [
    "# 5 day growth rate for several countries.\n",
    "f=plt.figure(figsize=(16,12))\n",
    "for loc in ['Global', 'China', 'US', 'Italy', 'Spain', 'United Kingdom', 'Canada', 'Germany']:\n",
    "        dates = timeseries[timeseries.Location==loc].Date\n",
    "        confirmed = timeseries[timeseries.Location==loc].Confirmed\n",
    "        growth = confirmed.diff(5) / (confirmed - confirmed.diff(5))\n",
    "        plt.plot(dates, growth, label=loc)\n",
    "        plt.yscale('log')\n",
    "        plt.ylim([.08, 100])\n",
    "        plt.xlim([np.datetime64('2020-01-21'), np.datetime64('2020-04-01')])\n",
    "plt.legend()"
   ]
  },
  {
   "cell_type": "code",
   "execution_count": null,
   "metadata": {
    "scrolled": true
   },
   "outputs": [],
   "source": []
  }
 ],
 "metadata": {
  "kernelspec": {
   "display_name": "Python 3",
   "language": "python",
   "name": "python3"
  },
  "language_info": {
   "codemirror_mode": {
    "name": "ipython",
    "version": 3
   },
   "file_extension": ".py",
   "mimetype": "text/x-python",
   "name": "python",
   "nbconvert_exporter": "python",
   "pygments_lexer": "ipython3",
   "version": "3.7.3"
  }
 },
 "nbformat": 4,
 "nbformat_minor": 4
}
